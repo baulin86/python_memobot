{
 "cells": [
  {
   "cell_type": "code",
   "execution_count": 6,
   "id": "9de35696",
   "metadata": {},
   "outputs": [],
   "source": [
    "from tg_config import TG_TOKEN\n",
    "import telebot\n",
    "import os\n",
    "from telebot import types\n",
    "import random\n",
    "\n",
    "\n",
    "Token = TG_TOKEN\n",
    "\n",
    "#Список всех кортиное из папки mems\n",
    "def mems_files():\n",
    "    cmd = os.getcwd()\n",
    "    folder = f'{cmd}\\\\mems'\n",
    "    files = os.listdir(folder)\n",
    "    result = []\n",
    "    for file in files:\n",
    "        result.append(f'{folder}\\\\{file}')\n",
    "    return result\n",
    "\n",
    "\n",
    "#Функция для рандомного выбора картинки\n",
    "def get_random_file(files):\n",
    "    return files[random.randrange(len(files))]\n",
    "\n",
    "mems = mems_files()\n",
    "\n",
    "bot = telebot.TeleBot(Token)\n",
    "\n",
    "@bot.message_handler(commands = ['start'])\n",
    "def start(message):\n",
    "    \n",
    "    #Добавляем кнокку\n",
    "    markup=types.ReplyKeyboardMarkup(resize_keyboard=True) \n",
    "    itembtn = types.KeyboardButton('📃 Отправить мем')\n",
    "    markup.add(itembtn)\n",
    "    \n",
    "    #Оправляем стартовое сообщение\n",
    "    bot.send_message(message.chat.id, 'Нажми кнопку 📃',  reply_markup=markup)\n",
    "        \n",
    "@bot.message_handler(content_types=['text'])\n",
    "def func(message):\n",
    "    #выбираем картинку\n",
    "    file = open(get_random_file(mems), 'rb')\n",
    "\n",
    "\n",
    "    bot.send_photo(message.chat.id, file)\n",
    "    \n",
    "bot.polling(none_stop=True, interval=0)"
   ]
  },
  {
   "cell_type": "code",
   "execution_count": null,
   "id": "e5c07d4b",
   "metadata": {},
   "outputs": [],
   "source": []
  }
 ],
 "metadata": {
  "kernelspec": {
   "display_name": "Python 3 (ipykernel)",
   "language": "python",
   "name": "python3"
  },
  "language_info": {
   "codemirror_mode": {
    "name": "ipython",
    "version": 3
   },
   "file_extension": ".py",
   "mimetype": "text/x-python",
   "name": "python",
   "nbconvert_exporter": "python",
   "pygments_lexer": "ipython3",
   "version": "3.10.9"
  }
 },
 "nbformat": 4,
 "nbformat_minor": 5
}
